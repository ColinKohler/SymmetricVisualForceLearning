{
 "cells": [
  {
   "cell_type": "code",
   "execution_count": 1,
   "id": "d996369d",
   "metadata": {},
   "outputs": [
    {
     "name": "stderr",
     "output_type": "stream",
     "text": [
      "/home/colin/.local/share/virtualenvs/midichlorians-nLk5PVzm/lib/python3.8/site-packages/tqdm/auto.py:22: TqdmWarning: IProgress not found. Please update jupyter and ipywidgets. See https://ipywidgets.readthedocs.io/en/stable/user_install.html\n",
      "  from .autonotebook import tqdm as notebook_tqdm\n"
     ]
    }
   ],
   "source": [
    "import matplotlib.pyplot as plt\n",
    "\n",
    "from midichlorians.models.encoders.force_encoder_3 import EquivForceEncoder\n",
    "\n",
    "import math\n",
    "import numpy as np\n",
    "import numpy.random as npr\n",
    "\n",
    "import torch\n",
    "import torch.nn as nn\n",
    "import escnn.nn as enn"
   ]
  },
  {
   "cell_type": "code",
   "execution_count": 2,
   "id": "72bc8016",
   "metadata": {},
   "outputs": [
    {
     "name": "stderr",
     "output_type": "stream",
     "text": [
      "/home/colin/.local/share/virtualenvs/midichlorians-nLk5PVzm/lib/python3.8/site-packages/torch/functional.py:504: UserWarning: torch.meshgrid: in an upcoming release, it will be required to pass the indexing argument. (Triggered internally at ../aten/src/ATen/native/TensorShape.cpp:3190.)\n",
      "  return _VF.meshgrid(tensors, **kwargs)  # type: ignore[attr-defined]\n"
     ]
    }
   ],
   "source": [
    "encoder = EquivForceEncoder()\n",
    "pool = enn.GroupPooling(encoder.out_type)\n",
    "fc = nn.Linear(64, 1)"
   ]
  },
  {
   "cell_type": "code",
   "execution_count": 3,
   "id": "d1edf9f3",
   "metadata": {},
   "outputs": [],
   "source": [
    "force = torch.randn(1,64,6)"
   ]
  },
  {
   "cell_type": "code",
   "execution_count": 4,
   "id": "fc23a5ba",
   "metadata": {},
   "outputs": [],
   "source": [
    "def rotateForce(f, theta):\n",
    "    R = np.array([\n",
    "        [np.cos(theta), -np.sin(theta)],\n",
    "        [np.sin(theta), np.cos(theta)]\n",
    "    ])\n",
    "    \n",
    "    rot_fxy = (R @ f[:,:2].T).T\n",
    "    rot_mxy = (R @ f[:,3:5].T).T\n",
    "    \n",
    "    return np.hstack([rot_fxy, f[:,2].reshape(64,1), rot_mxy, f[:,5].reshape(64,1)])"
   ]
  },
  {
   "cell_type": "code",
   "execution_count": 5,
   "id": "0458ab61",
   "metadata": {},
   "outputs": [],
   "source": [
    "rot_force = rotateForce(force.numpy()[0], np.radians(90))"
   ]
  },
  {
   "cell_type": "code",
   "execution_count": 6,
   "id": "26fc3ee6",
   "metadata": {
    "scrolled": true
   },
   "outputs": [
    {
     "data": {
      "image/png": "[encoded data removed]",
      "text/plain": [
       "<Figure size 640x480 with 1 Axes>"
      ]
     },
     "metadata": {},
     "output_type": "display_data"
    }
   ],
   "source": [
    "i = 0\n",
    "V = np.array([[force[0,i,0], force[0,i,1]], [rot_force[i,0], rot_force[i,1]]])\n",
    "origin = np.array([[0, 0],[0, 0]])\n",
    "\n",
    "plt.quiver(*origin, V[:,0], V[:,1], color=['r','b'], scale=21)\n",
    "plt.show()"
   ]
  },
  {
   "cell_type": "code",
   "execution_count": 7,
   "id": "8010f031",
   "metadata": {},
   "outputs": [
    {
     "name": "stdout",
     "output_type": "stream",
     "text": [
      "tensor([[-2.6809]])\n"
     ]
    }
   ],
   "source": [
    "with torch.no_grad():\n",
    "    x = fc(pool(encoder(force)).tensor.view(1,64))\n",
    "print(x)"
   ]
  },
  {
   "cell_type": "code",
   "execution_count": 8,
   "id": "77fc49ac",
   "metadata": {},
   "outputs": [
    {
     "name": "stdout",
     "output_type": "stream",
     "text": [
      "rot: 0 | out: -2.442\n",
      "rot: 45 | out: -2.437\n",
      "rot: 90 | out: -2.382\n",
      "rot: 135 | out: -2.440\n",
      "rot: 180 | out: -2.463\n",
      "rot: 225 | out: -2.533\n",
      "rot: 270 | out: -2.627\n",
      "rot: 315 | out: -2.543\n"
     ]
    }
   ],
   "source": [
    "force = torch.randn(1,64,6)\n",
    "for r in range(8):\n",
    "    rot_force = rotateForce(force.numpy()[0], np.radians(r*45))\n",
    "    rot_force = torch.tensor(rot_force).view(1,64,6).float()\n",
    "    \n",
    "    with torch.no_grad():\n",
    "        x = fc(pool(encoder(rot_force)).tensor.view(1,64))\n",
    "    print('rot: {} | out: {:.3f}'.format(r*45, x.item()))"
   ]
  },
  {
   "cell_type": "code",
   "execution_count": null,
   "id": "7d929bba",
   "metadata": {},
   "outputs": [],
   "source": []
  }
 ],
 "metadata": {
  "kernelspec": {
   "display_name": "Python 3 (ipykernel)",
   "language": "python",
   "name": "python3"
  },
  "language_info": {
   "codemirror_mode": {
    "name": "ipython",
    "version": 3
   },
   "file_extension": ".py",
   "mimetype": "text/x-python",
   "name": "python",
   "nbconvert_exporter": "python",
   "pygments_lexer": "ipython3",
   "version": "3.8.10"
  }
 },
 "nbformat": 4,
 "nbformat_minor": 5
}
